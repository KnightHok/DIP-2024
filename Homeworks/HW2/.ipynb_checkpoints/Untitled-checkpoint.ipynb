{
 "cells": [
  {
   "cell_type": "code",
   "execution_count": 1,
   "id": "29d86fd8-be72-472a-81f6-5eb76aa024ac",
   "metadata": {},
   "outputs": [],
   "source": [
    "import numpy as np\n",
    "from scipy.fft import fft2, ifft2, fftshift, ifftshift\n",
    "import matplotlib.pyplot as plt\n",
    "from skimage import io, morphology\n",
    "from skimage import io, color, img_as_float, filters"
   ]
  },
  {
   "cell_type": "code",
   "execution_count": null,
   "id": "b2da9a00-a4ea-4982-9ad4-80b6b40cbab3",
   "metadata": {},
   "outputs": [],
   "source": [
    "img1 = io.imread('./HW2_DegradedImage.jpeg')"
   ]
  }
 ],
 "metadata": {
  "kernelspec": {
   "display_name": "Python 3 (ipykernel)",
   "language": "python",
   "name": "python3"
  },
  "language_info": {
   "codemirror_mode": {
    "name": "ipython",
    "version": 3
   },
   "file_extension": ".py",
   "mimetype": "text/x-python",
   "name": "python",
   "nbconvert_exporter": "python",
   "pygments_lexer": "ipython3",
   "version": "3.9.18"
  }
 },
 "nbformat": 4,
 "nbformat_minor": 5
}
